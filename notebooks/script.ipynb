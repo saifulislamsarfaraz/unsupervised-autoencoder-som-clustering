{
 "cells": [
  {
   "cell_type": "code",
   "execution_count": null,
   "id": "acd5d20e",
   "metadata": {
    "vscode": {
     "languageId": "plaintext"
    }
   },
   "outputs": [],
   "source": [
    "import scanpy as sc\n",
    "import numpy as np\n",
    "import matplotlib.pyplot as plt\n",
    "import seaborn as sns\n",
    "\n",
    "from sklearn.preprocessing import StandardScaler\n",
    "from sklearn.metrics import silhouette_score\n",
    "from minisom import MiniSom\n",
    "\n",
    "import tensorflow as tf\n",
    "from tensorflow.keras.models import Model\n",
    "from tensorflow.keras.layers import Input, Dense, Dropout, BatchNormalization\n",
    "from tensorflow.keras.optimizers import Adam\n",
    "from tensorflow.keras.regularizers import l2"
   ]
  },
  {
   "cell_type": "code",
   "execution_count": null,
   "id": "5ee71ebd",
   "metadata": {
    "vscode": {
     "languageId": "plaintext"
    }
   },
   "outputs": [],
   "source": [
    "adata = sc.datasets.pbmc3k()\n",
    "sc.pp.filter_cells(adata, min_genes=200)\n",
    "sc.pp.filter_genes(adata, min_cells=3)\n",
    "sc.pp.normalize_total(adata, target_sum=1e4)\n",
    "sc.pp.log1p(adata)\n",
    "\n",
    "X = adata.X.toarray() if hasattr(adata.X, 'toarray') else adata.X\n",
    "X = StandardScaler().fit_transform(X)  "
   ]
  },
  {
   "cell_type": "code",
   "execution_count": null,
   "id": "0fae5c9f",
   "metadata": {
    "vscode": {
     "languageId": "plaintext"
    }
   },
   "outputs": [],
   "source": [
    "input_dim = X.shape[1]\n",
    "encoding_dim = 64\n",
    "\n",
    "input_layer = Input(shape=(input_dim,))\n",
    "x = Dense(512, activation='relu', kernel_regularizer=l2(1e-5))(input_layer)\n",
    "x = BatchNormalization()(x)\n",
    "x = Dropout(0.2)(x)\n",
    "encoded = Dense(encoding_dim, activation='relu')(x)\n",
    "x = Dense(512, activation='relu')(encoded)\n",
    "decoded = Dense(input_dim, activation='linear')(x)\n",
    "\n",
    "autoencoder = Model(inputs=input_layer, outputs=decoded)\n",
    "encoder = Model(inputs=input_layer, outputs=encoded)\n",
    "\n",
    "autoencoder.compile(optimizer=Adam(1e-3), loss='mse')\n",
    "autoencoder.summary()"
   ]
  },
  {
   "cell_type": "code",
   "execution_count": null,
   "id": "b9400bee",
   "metadata": {
    "vscode": {
     "languageId": "plaintext"
    }
   },
   "outputs": [],
   "source": [
    "autoencoder.fit(X, X, epochs=50, batch_size=32, shuffle=True, verbose=1)"
   ]
  },
  {
   "cell_type": "code",
   "execution_count": null,
   "id": "3e440fe3",
   "metadata": {
    "vscode": {
     "languageId": "plaintext"
    }
   },
   "outputs": [],
   "source": [
    "latent_X = encoder.predict(X)"
   ]
  },
  {
   "cell_type": "code",
   "execution_count": null,
   "id": "5e7b86b5",
   "metadata": {
    "vscode": {
     "languageId": "plaintext"
    }
   },
   "outputs": [],
   "source": [
    "som_size = 4  # 4x4 SOM grid\n",
    "som = MiniSom(x=som_size, y=som_size, input_len=encoding_dim, sigma=1.0, learning_rate=0.5)\n",
    "som.random_weights_init(latent_X)\n",
    "som.train_random(latent_X, 1000, verbose=True)"
   ]
  },
  {
   "cell_type": "code",
   "execution_count": null,
   "id": "caca03fa",
   "metadata": {
    "vscode": {
     "languageId": "plaintext"
    }
   },
   "outputs": [],
   "source": [
    "win_map = np.array([som.winner(x) for x in latent_X])\n",
    "clusters = [f\"{i}-{j}\" for i, j in win_map]  # Convert (i,j) to string label\n",
    "adata.obs['som_cluster'] = clusters\n",
    "\n",
    "\n",
    "\n"
   ]
  },
  {
   "cell_type": "code",
   "execution_count": null,
   "id": "34a906eb",
   "metadata": {
    "vscode": {
     "languageId": "plaintext"
    }
   },
   "outputs": [],
   "source": [
    "# Step 6: Visualization\n",
    "sc.pp.neighbors(adata, use_rep='X')\n",
    "sc.tl.umap(adata)\n",
    "sc.pl.umap(adata, color=['som_cluster'], title=\"SOM Clustering on Autoencoder Latent Space\")"
   ]
  },
  {
   "cell_type": "code",
   "execution_count": null,
   "id": "41610ccf",
   "metadata": {
    "vscode": {
     "languageId": "plaintext"
    }
   },
   "outputs": [],
   "source": [
    "# Step 7: Evaluation (Optional - needs true labels or qualitative judgment)\n",
    "print(\"Silhouette Score:\", silhouette_score(latent_X, clusters))"
   ]
  }
 ],
 "metadata": {
  "language_info": {
   "name": "python"
  }
 },
 "nbformat": 4,
 "nbformat_minor": 5
}
